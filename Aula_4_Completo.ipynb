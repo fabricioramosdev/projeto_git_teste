{
 "cells": [
  {
   "cell_type": "markdown",
   "id": "9112837a-2460-426b-989e-47523841df7f",
   "metadata": {},
   "source": [
    "# Aula 4 - Estruturas de Repetição\n",
    "\n",
    "### Objetivos da aula:\n",
    "1. Entender como funcionam as estruturas de repetição em Python.\n",
    "2. Utilizar os comandos `for` e `while`.\n",
    "3. Trabalhar com a função `range` e laços aninhados.\n",
    "4. Resolver problemas práticos usando loops."
   ]
  },
  {
   "cell_type": "markdown",
   "id": "adcfee39-6bc4-439f-8e79-27ff407a468c",
   "metadata": {},
   "source": [
    "### **Seção 1: Introdução às Estruturas de Repetição**\n",
    " As estruturas de repetição permitem executar um bloco de código várias vezes com base em uma condição ou sequência.\n",
    "#Em Python, temos dois tipos principais de laços: `for` e `while`.\n"
   ]
  },
  {
   "cell_type": "code",
   "execution_count": 5,
   "id": "a3a2201e-895f-4efd-9710-8cd4726317a8",
   "metadata": {},
   "outputs": [
    {
     "name": "stdout",
     "output_type": "stream",
     "text": [
      "Contador: 0\n",
      "Contador: 1\n",
      "Contador: 2\n",
      "Contador: 3\n",
      "Contador: 4\n"
     ]
    }
   ],
   "source": [
    "# ---- While Loop ----\n",
    "# O loop `while` continua executando enquanto uma condição for verdadeira.\n",
    "# Exemplo: Usando um contador\n",
    "contador = 0\n",
    "while contador < 5:\n",
    "    print(\"Contador:\", contador)\n",
    "     #contador = contador+1    \n",
    "    contador += 1"
   ]
  },
  {
   "cell_type": "code",
   "execution_count": 6,
   "id": "88095dd5-c09c-4d80-bfbc-6ba988e2c95f",
   "metadata": {},
   "outputs": [
    {
     "name": "stdout",
     "output_type": "stream",
     "text": [
      "Olá, Ana!\n",
      "Olá, João!\n",
      "Olá, Maria!\n"
     ]
    }
   ],
   "source": [
    "# ---- For Loop ----\n",
    "# O laço `for` é usado para iterar sobre sequências (listas, strings, etc.).\n",
    "nomes = [\"Ana\", \"João\", \"Maria\"]\n",
    "for nome in nomes:\n",
    "    print(f\"Olá, {nome}!\")"
   ]
  },
  {
   "cell_type": "code",
   "execution_count": 7,
   "id": "d068b12e-2cc6-47fc-9b41-c3721531cdaf",
   "metadata": {},
   "outputs": [
    {
     "name": "stdout",
     "output_type": "stream",
     "text": [
      "Valor de i: 0\n",
      "Valor de i: 1\n",
      "Valor de i: 2\n",
      "Valor de i: 3\n",
      "Valor de i: 4\n"
     ]
    }
   ],
   "source": [
    "# ---- For Loop ----\n",
    "# O loop `for` é usado para iterar sobre uma sequência (como listas, strings ou ranges).\n",
    "\n",
    "#  Iterando sobre um range de números\n",
    "for i in range(5):\n",
    "    print(\"Valor de i:\", i)"
   ]
  },
  {
   "cell_type": "code",
   "execution_count": 8,
   "id": "06a1feb7-34b7-4794-b4a9-cf15e7d357f3",
   "metadata": {},
   "outputs": [
    {
     "name": "stdout",
     "output_type": "stream",
     "text": [
      "Fruta: maçã\n",
      "Fruta: banana\n",
      "Fruta: cereja\n"
     ]
    }
   ],
   "source": [
    "# Iterando sobre uma lista\n",
    "frutas = [\"maçã\", \"banana\", \"cereja\"]\n",
    "for fruta in frutas:\n",
    "    print(\"Fruta:\", fruta)"
   ]
  },
  {
   "cell_type": "code",
   "execution_count": 9,
   "id": "67862814-65ab-4267-9b52-981c20fcdf08",
   "metadata": {},
   "outputs": [
    {
     "name": "stdout",
     "output_type": "stream",
     "text": [
      "Letra: P\n",
      "Letra: y\n",
      "Letra: t\n",
      "Letra: h\n",
      "Letra: o\n",
      "Letra: n\n"
     ]
    }
   ],
   "source": [
    "# Exemplo 2: Iterando sobre uma string\n",
    "palavra = \"Python\"\n",
    "for letra in palavra:\n",
    "    print(\"Letra:\", letra)"
   ]
  },
  {
   "cell_type": "code",
   "execution_count": 10,
   "id": "16667ebf-b001-4ffa-a555-e6363f1c6411",
   "metadata": {},
   "outputs": [
    {
     "name": "stdout",
     "output_type": "stream",
     "text": [
      "1\n",
      "2\n",
      "3\n",
      "4\n",
      "5\n",
      "6\n",
      "7\n",
      "8\n",
      "9\n",
      "10\n"
     ]
    }
   ],
   "source": [
    "# **Tarefa 1:**\n",
    "# Use um laço `for` para exibir os números de 1 a 10.\n",
    "for i in range(1, 11):\n",
    "    print(i)"
   ]
  },
  {
   "cell_type": "markdown",
   "id": "59d91805-0084-47fc-97bd-6a9ddb2da10f",
   "metadata": {},
   "source": [
    "----"
   ]
  },
  {
   "cell_type": "markdown",
   "id": "8486825b-dbdb-45c7-bcf6-426c97485a1c",
   "metadata": {},
   "source": [
    "### **Seção 2: Controle de Fluxo em Laços**\n",
    " Podemos usar as palavras-chave `break` e `continue` para controlar o fluxo dos laços.\n",
    "- `break`: Encerra o laço imediatamente.\n",
    "- `continue`: Interrompe a iteração atual e passa para a próxima."
   ]
  },
  {
   "cell_type": "code",
   "execution_count": 11,
   "id": "c8885cda-172b-44d5-9f18-e1090b4f56dc",
   "metadata": {},
   "outputs": [
    {
     "name": "stdout",
     "output_type": "stream",
     "text": [
      "1\n",
      "2\n"
     ]
    }
   ],
   "source": [
    "# Podemos usar `break` e `continue` para controlar o comportamento dos loops.\n",
    "for i in range(1, 6):\n",
    "    if i == 3:\n",
    "        break\n",
    "    print(i)"
   ]
  },
  {
   "cell_type": "code",
   "execution_count": 12,
   "id": "0bc7e38c-98b6-43dc-9773-f9e210b595d2",
   "metadata": {},
   "outputs": [
    {
     "name": "stdout",
     "output_type": "stream",
     "text": [
      "0\n",
      "1\n",
      "2\n",
      "3\n",
      "4\n",
      "Interrompendo o loop no valor 5.\n"
     ]
    }
   ],
   "source": [
    "# Usando `break` para interromper um loop\n",
    "for i in range(10):\n",
    "    if i == 5:\n",
    "        print(\"Interrompendo o loop no valor 5.\")\n",
    "        break\n",
    "    print(i)"
   ]
  },
  {
   "cell_type": "code",
   "execution_count": 13,
   "id": "c159ebf9-178a-426a-a5a2-3346c6b1b540",
   "metadata": {},
   "outputs": [
    {
     "name": "stdout",
     "output_type": "stream",
     "text": [
      "1\n",
      "2\n",
      "4\n",
      "5\n"
     ]
    }
   ],
   "source": [
    "for i in range(1, 6):\n",
    "    if i == 3:\n",
    "        continue\n",
    "    print(i)"
   ]
  },
  {
   "cell_type": "code",
   "execution_count": 14,
   "id": "17480cef-7e3a-4f6e-8c70-77654cf7b62e",
   "metadata": {},
   "outputs": [
    {
     "name": "stdout",
     "output_type": "stream",
     "text": [
      "Ímpar: 1\n",
      "Ímpar: 3\n",
      "Ímpar: 5\n",
      "Ímpar: 7\n",
      "Ímpar: 9\n"
     ]
    }
   ],
   "source": [
    "# Usando `continue` para pular para a próxima iteração\n",
    "for i in range(10):\n",
    "    if i % 2 == 0:\n",
    "        continue\n",
    "    print(\"Ímpar:\", i)"
   ]
  },
  {
   "cell_type": "code",
   "execution_count": 15,
   "id": "e26a122d-4deb-4369-920a-3e7559b2017e",
   "metadata": {},
   "outputs": [
    {
     "name": "stdout",
     "output_type": "stream",
     "text": [
      "2\n",
      "4\n",
      "6\n"
     ]
    }
   ],
   "source": [
    "# **Tarefa 2:**\n",
    "# Use `break` para interromper um laço ao encontrar o número 7 em uma lista de números.\n",
    "# Use `continue` para pular números ímpares em um laço de 1 a 10.\n",
    "for i in range(1, 11):\n",
    "    if i == 7:\n",
    "        break\n",
    "    if i % 2 != 0:\n",
    "        continue\n",
    "    print(i)"
   ]
  },
  {
   "cell_type": "code",
   "execution_count": 16,
   "id": "561a68a8-2005-4065-927b-8869220411ac",
   "metadata": {},
   "outputs": [
    {
     "name": "stdout",
     "output_type": "stream",
     "text": [
      "0\n",
      "1\n",
      "2\n",
      "3\n",
      "4\n",
      "Loop concluído sem interrupções.\n"
     ]
    }
   ],
   "source": [
    "#  Usando `else` com loops\n",
    "for i in range(5):\n",
    "    print(i)\n",
    "else:\n",
    "    print(\"Loop concluído sem interrupções.\")"
   ]
  },
  {
   "cell_type": "markdown",
   "id": "870005b1-bbda-4418-91d7-0eb24c49217d",
   "metadata": {},
   "source": [
    "---"
   ]
  },
  {
   "cell_type": "markdown",
   "id": "3c4c6a50-91cb-4e5a-80fe-cb4d97836a08",
   "metadata": {},
   "source": [
    "### **Seção 3: Desafio Extra**\n",
    "Crie um programa que receba um número inteiro e verifique se ele é primo.\n",
    "\n",
    "**Obs:** Um número é primo, quando é divisível por nenhum número além de 1 e dele mesmo"
   ]
  },
  {
   "cell_type": "code",
   "execution_count": 88,
   "id": "c2056e8c-f93b-4cc4-ae0c-107c333f9bd1",
   "metadata": {},
   "outputs": [
    {
     "name": "stdin",
     "output_type": "stream",
     "text": [
      "Digite um número:  4\n"
     ]
    },
    {
     "name": "stdout",
     "output_type": "stream",
     "text": [
      "Testando divisor: 2\n",
      "True 0\n",
      "4 não é primo.\n"
     ]
    }
   ],
   "source": [
    "def eh_primo(numero):\n",
    "    if numero < 2:\n",
    "        return False\n",
    "    for i in range(2, int(numero**0.5) + 1):\n",
    "        print(f\"Testando divisor: {i}\")\n",
    "        print( numero % i == 0,  numero % i )\n",
    "        if numero % i == 0:\n",
    "            return False\n",
    "    return True\n",
    "\n",
    "numero = int(input(\"Digite um número: \"))\n",
    "if eh_primo(numero):\n",
    "    print(f\"{numero} é primo.\")\n",
    "else:\n",
    "    print(f\"{numero} não é primo.\")"
   ]
  },
  {
   "cell_type": "code",
   "execution_count": 61,
   "id": "e6e39aaa-9c0c-48c0-bc16-205da3f187ed",
   "metadata": {},
   "outputs": [
    {
     "name": "stdin",
     "output_type": "stream",
     "text": [
      "Digite um número:  49\n"
     ]
    },
    {
     "name": "stdout",
     "output_type": "stream",
     "text": [
      "Testando divisor: 2\n",
      "Testando divisor: 3\n",
      "Testando divisor: 4\n",
      "Testando divisor: 5\n",
      "Testando divisor: 6\n",
      "Testando divisor: 7\n",
      "49 é divisível por 7, portanto NÃO é primo.\n",
      "49 não é primo.\n"
     ]
    }
   ],
   "source": [
    "# Razão Matemática\n",
    "# Quando verificamos se um número é primo, precisamos garantir que ele não seja divisível por nenhum número além de 1 e dele mesmo.\n",
    "# A forma ingênua de verificar isso seria testar todos os números de 2 até numero - 1, mas isso é muito ineficiente para números grandes.\n",
    "\n",
    "def eh_primo(numero):\n",
    "    \"\"\"Verifica se um número é primo de maneira completa, testando todos os divisores possíveis.\"\"\"\n",
    "    \n",
    "    # Caso o número seja menor que 2, não é primo\n",
    "    if numero < 2:\n",
    "        return False  # 0 e 1 não são primos\n",
    "    \n",
    "    # Testamos todos os números de 2 até numero-1\n",
    "    for i in range(2, numero):\n",
    "        print(f\"Testando divisor: {i}\")  # Apenas para acompanhar a execução\n",
    "        if numero % i == 0:\n",
    "            print(f\"{numero} é divisível por {i}, portanto NÃO é primo.\")\n",
    "            return False  # Encontramos um divisor, então não é primo\n",
    "\n",
    "    # Se passou por todos os testes, então é primo\n",
    "    print(f\"{numero} NÃO foi dividido por nenhum número além de 1 e {numero}, portanto é primo.\")\n",
    "    return True\n",
    "numero = int(input(\"Digite um número: \"))\n",
    "if eh_primo(numero):\n",
    "    print(f\"{numero} é primo.\")\n",
    "else:\n",
    "    print(f\"{numero} não é primo.\")"
   ]
  },
  {
   "cell_type": "code",
   "execution_count": 89,
   "id": "7cc3cacd-84c8-4d60-888e-3a5f946855fe",
   "metadata": {},
   "outputs": [
    {
     "data": {
      "text/plain": [
       "2.0"
      ]
     },
     "execution_count": 89,
     "metadata": {},
     "output_type": "execute_result"
    }
   ],
   "source": [
    "4/2\n"
   ]
  },
  {
   "cell_type": "code",
   "execution_count": 79,
   "id": "8ab793fd-ffcd-44bc-bba9-3156262b9e90",
   "metadata": {},
   "outputs": [
    {
     "data": {
      "text/plain": [
       "2.0"
      ]
     },
     "execution_count": 79,
     "metadata": {},
     "output_type": "execute_result"
    }
   ],
   "source": [
    "2/1"
   ]
  }
 ],
 "metadata": {
  "kernelspec": {
   "display_name": "Python 3 (ipykernel)",
   "language": "python",
   "name": "python3"
  },
  "language_info": {
   "codemirror_mode": {
    "name": "ipython",
    "version": 3
   },
   "file_extension": ".py",
   "mimetype": "text/x-python",
   "name": "python",
   "nbconvert_exporter": "python",
   "pygments_lexer": "ipython3",
   "version": "3.12.7"
  }
 },
 "nbformat": 4,
 "nbformat_minor": 5
}
